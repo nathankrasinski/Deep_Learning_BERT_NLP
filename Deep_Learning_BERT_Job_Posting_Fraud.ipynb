{
  "cells": [
    {
      "cell_type": "markdown",
      "metadata": {
        "id": "LAEyioWJhnKg"
      },
      "source": [
        "# Deep Learning w/ BERT (NLP)\n",
        "## Is the job posting Fraudulent or Real?\n",
        "### Dataset can be found on [Kaggle](https://www.kaggle.com/shivamb/real-or-fake-fake-jobposting-prediction)\n",
        "#### Nathan Krasinski\n"
      ]
    },
    {
      "cell_type": "code",
      "execution_count": 1,
      "metadata": {
        "colab": {
          "base_uri": "https://localhost:8080/"
        },
        "id": "KucdrtHZgvgW",
        "outputId": "6d28635e-0c1c-4749-912f-f76166e86681"
      },
      "outputs": [
        {
          "output_type": "stream",
          "name": "stdout",
          "text": [
            "\u001b[K     |████████████████████████████████| 5.8 MB 4.7 MB/s \n",
            "\u001b[K     |████████████████████████████████| 588.3 MB 19 kB/s \n",
            "\u001b[K     |████████████████████████████████| 6.0 MB 60.2 MB/s \n",
            "\u001b[K     |████████████████████████████████| 1.7 MB 70.2 MB/s \n",
            "\u001b[K     |████████████████████████████████| 439 kB 86.4 MB/s \n",
            "\u001b[?25h"
          ]
        }
      ],
      "source": [
        "!pip install -q tensorflow-text"
      ]
    },
    {
      "cell_type": "code",
      "execution_count": 2,
      "metadata": {
        "colab": {
          "base_uri": "https://localhost:8080/"
        },
        "id": "jdIvLWv2h0kH",
        "outputId": "cc215da5-626b-4bc3-9c20-26dcfb341f4c"
      },
      "outputs": [
        {
          "output_type": "stream",
          "name": "stdout",
          "text": [
            "\u001b[K     |████████████████████████████████| 2.4 MB 4.3 MB/s \n",
            "\u001b[K     |████████████████████████████████| 238 kB 71.9 MB/s \n",
            "\u001b[K     |████████████████████████████████| 118 kB 88.3 MB/s \n",
            "\u001b[K     |████████████████████████████████| 1.1 MB 80.1 MB/s \n",
            "\u001b[K     |████████████████████████████████| 352 kB 73.7 MB/s \n",
            "\u001b[K     |████████████████████████████████| 43 kB 2.5 MB/s \n",
            "\u001b[K     |████████████████████████████████| 2.3 MB 67.7 MB/s \n",
            "\u001b[K     |████████████████████████████████| 1.3 MB 60.4 MB/s \n",
            "\u001b[K     |████████████████████████████████| 38.2 MB 310 kB/s \n",
            "\u001b[K     |████████████████████████████████| 662 kB 85.5 MB/s \n",
            "\u001b[?25h  Building wheel for seqeval (setup.py) ... \u001b[?25l\u001b[?25hdone\n"
          ]
        }
      ],
      "source": [
        "!pip install -q tf-models-official"
      ]
    },
    {
      "cell_type": "code",
      "execution_count": 4,
      "metadata": {
        "id": "CmuBVJpJh40m"
      },
      "outputs": [],
      "source": [
        "import os\n",
        "import shutil\n",
        "import tensorflow as tf\n",
        "import tensorflow_hub as hub\n",
        "import tensorflow_text as text\n",
        "from official.nlp import optimization  # to create AdamW optimizer\n",
        "import pandas as pd\n",
        "import matplotlib.pyplot as plt\n",
        "from sklearn.model_selection import train_test_split\n",
        "tf.get_logger().setLevel('ERROR')"
      ]
    },
    {
      "cell_type": "code",
      "execution_count": 5,
      "metadata": {
        "id": "vLF7xhjKh9R2"
      },
      "outputs": [],
      "source": [
        "df = pd.read_csv(\"fake_job_postings.csv\")"
      ]
    },
    {
      "cell_type": "code",
      "execution_count": 6,
      "metadata": {
        "id": "N-CSaIzImGxP"
      },
      "outputs": [],
      "source": [
        "df['combined'] = df['title'].astype(str) + \" \" + df['description'].astype(str)"
      ]
    },
    {
      "cell_type": "markdown",
      "metadata": {
        "id": "CNCcELiW3wgu"
      },
      "source": [
        "## Text Cleanup"
      ]
    },
    {
      "cell_type": "code",
      "execution_count": 7,
      "metadata": {
        "id": "d5a0-ynR33nt"
      },
      "outputs": [],
      "source": [
        "import spacy, re\n",
        "\n",
        "df['combined']=df['combined'].str.replace('\\n','')\n",
        "df['combined']=df['combined'].str.replace('\\r','')\n",
        "df['combined']=df['combined'].str.replace('\\t','')\n",
        "  \n",
        "#This removes unwanted texts\n",
        "df['combined'] = df['combined'].apply(lambda x: re.sub(r'[0-9]','',x))\n",
        "df['combined'] = df['combined'].apply(lambda x: re.sub(r'[/(){}\\[\\]\\|@,;.:-]',' ',x))\n",
        "  \n",
        "#Converting all upper case to lower case\n",
        "df['combined']= df['combined'].apply(lambda s:s.lower() if type(s) == str else s)\n",
        "  \n",
        "\n",
        "#Remove un necessary white space\n",
        "df['combined']=df['combined'].str.replace('  ',' ')\n",
        "\n",
        "#Remove Stop words\n",
        "nlp=spacy.load(\"en_core_web_sm\")\n",
        "df['combined'] =df['combined'].apply(lambda x: ' '.join([word for word in x.split() if nlp.vocab[word].is_stop==False ]))"
      ]
    },
    {
      "cell_type": "code",
      "execution_count": 8,
      "metadata": {
        "id": "vCsbzSZ2oxsn"
      },
      "outputs": [],
      "source": [
        "raw_x_train, x_test, raw_y_train, y_test = train_test_split(df['combined'], df['fraudulent'], test_size=0.2, random_state=23, stratify=df['fraudulent'])\n",
        "x_train, x_val, y_train, y_val = train_test_split(raw_x_train, raw_y_train, test_size=0.25, random_state=23, stratify=raw_y_train)"
      ]
    },
    {
      "cell_type": "code",
      "execution_count": 9,
      "metadata": {
        "colab": {
          "base_uri": "https://localhost:8080/"
        },
        "id": "CwaCMo-KrizP",
        "outputId": "8d72a03d-4b6f-4592-b836-776749f358b9"
      },
      "outputs": [
        {
          "output_type": "stream",
          "name": "stdout",
          "text": [
            "10728\n",
            "10728\n",
            "3576\n",
            "3576\n",
            "3576\n",
            "3576\n"
          ]
        }
      ],
      "source": [
        "# Sanity Check\n",
        "print(x_train.size)\n",
        "print(y_train.size)\n",
        "print(x_val.size)\n",
        "print(y_val.size)\n",
        "print(x_test.size)\n",
        "print(y_test.size)\n"
      ]
    },
    {
      "cell_type": "code",
      "execution_count": 10,
      "metadata": {
        "id": "g17LRm0dxyOw"
      },
      "outputs": [],
      "source": [
        "train_ds = tf.data.Dataset.from_tensor_slices((x_train, y_train))\n",
        "train_ds = train_ds.batch(32)\n",
        "\n",
        "val_ds = tf.data.Dataset.from_tensor_slices((x_val, y_val))\n",
        "val_ds = val_ds.batch(32)\n",
        "\n",
        "test_ds = tf.data.Dataset.from_tensor_slices((x_test, y_test))\n",
        "test_ds = test_ds.batch(32)\n"
      ]
    },
    {
      "cell_type": "code",
      "source": [
        "tfhub_handle_encoder = \"https://tfhub.dev/tensorflow/small_bert/bert_en_uncased_L-4_H-128_A-2/2\"\n",
        "tfhub_handle_preprocess = \"https://tfhub.dev/tensorflow/bert_en_uncased_preprocess/3\""
      ],
      "metadata": {
        "id": "47YxyjHnWeBP"
      },
      "execution_count": 11,
      "outputs": []
    },
    {
      "cell_type": "code",
      "execution_count": 12,
      "metadata": {
        "id": "e1vdt3yt3tHM"
      },
      "outputs": [],
      "source": [
        "from keras.activations import sigmoid\n",
        "\n",
        "def build_classifier_model():\n",
        "  text_input = tf.keras.layers.Input(shape=(), dtype=tf.string, name='text')\n",
        "  preprocessing_layer = hub.KerasLayer(tfhub_handle_preprocess, name='preprocessing')(text_input)\n",
        "  Bert_layer = hub.KerasLayer(tfhub_handle_encoder, trainable=True, name='BERT_encoder')(preprocessing_layer)\n",
        "  Bert_output = Bert_layer['pooled_output']\n",
        "  net = tf.keras.layers.Dropout(0.1)(Bert_output)\n",
        "  output_layer = tf.keras.layers.Dense(1, activation=\"sigmoid\", name='classifier')(net)\n",
        "  return tf.keras.Model(text_input, output_layer)  "
      ]
    },
    {
      "cell_type": "code",
      "execution_count": 13,
      "metadata": {
        "id": "f6Vdblt-4vix"
      },
      "outputs": [],
      "source": [
        "classifier_model = build_classifier_model()"
      ]
    },
    {
      "cell_type": "code",
      "execution_count": 14,
      "metadata": {
        "id": "PbdYoXQp9uuo"
      },
      "outputs": [],
      "source": [
        "loss = tf.keras.losses.BinaryCrossentropy(from_logits=False)\n",
        "metrics = tf.keras.metrics.AUC(name='auc')"
      ]
    },
    {
      "cell_type": "code",
      "execution_count": 15,
      "metadata": {
        "id": "LkJcJbVI-FWa"
      },
      "outputs": [],
      "source": [
        "epochs = 15\n",
        "steps_per_epoch = tf.data.experimental.cardinality(train_ds).numpy()\n",
        "num_train_steps = steps_per_epoch * epochs\n",
        "num_warmup_steps = int(0.1*num_train_steps)\n",
        "\n",
        "init_lr = 3e-5\n",
        "optimizer = optimization.create_optimizer(init_lr=init_lr,\n",
        "                                          num_train_steps=num_train_steps,\n",
        "                                          num_warmup_steps=num_warmup_steps,\n",
        "                                          optimizer_type='adamw')"
      ]
    },
    {
      "cell_type": "code",
      "execution_count": 16,
      "metadata": {
        "id": "3LvMEKcl_Xmp"
      },
      "outputs": [],
      "source": [
        "classifier_model.compile(optimizer=optimizer,\n",
        "                         loss=loss,\n",
        "                         metrics=metrics)"
      ]
    },
    {
      "cell_type": "code",
      "execution_count": 17,
      "metadata": {
        "colab": {
          "base_uri": "https://localhost:8080/"
        },
        "id": "NbYY6j8K_iKV",
        "outputId": "1399f8fa-c7f9-48cd-d493-35c194fdd329"
      },
      "outputs": [
        {
          "output_type": "stream",
          "name": "stdout",
          "text": [
            "Epoch 1/15\n",
            "336/336 [==============================] - 51s 118ms/step - loss: 0.2089 - auc: 0.5907 - val_loss: 0.1672 - val_auc: 0.8316\n",
            "Epoch 2/15\n",
            "336/336 [==============================] - 36s 107ms/step - loss: 0.1541 - auc: 0.8214 - val_loss: 0.1185 - val_auc: 0.9053\n",
            "Epoch 3/15\n",
            "336/336 [==============================] - 35s 105ms/step - loss: 0.1162 - auc: 0.9062 - val_loss: 0.1039 - val_auc: 0.9234\n",
            "Epoch 4/15\n",
            "336/336 [==============================] - 36s 106ms/step - loss: 0.0994 - auc: 0.9344 - val_loss: 0.0994 - val_auc: 0.9364\n",
            "Epoch 5/15\n",
            "336/336 [==============================] - 33s 99ms/step - loss: 0.0818 - auc: 0.9521 - val_loss: 0.0941 - val_auc: 0.9297\n",
            "Epoch 6/15\n",
            "336/336 [==============================] - 35s 105ms/step - loss: 0.0731 - auc: 0.9579 - val_loss: 0.0964 - val_auc: 0.9369\n",
            "Epoch 7/15\n",
            "336/336 [==============================] - 38s 113ms/step - loss: 0.0626 - auc: 0.9602 - val_loss: 0.0952 - val_auc: 0.9257\n",
            "Epoch 8/15\n",
            "336/336 [==============================] - 36s 108ms/step - loss: 0.0545 - auc: 0.9700 - val_loss: 0.0988 - val_auc: 0.9160\n",
            "Epoch 9/15\n",
            "336/336 [==============================] - 36s 108ms/step - loss: 0.0479 - auc: 0.9725 - val_loss: 0.1020 - val_auc: 0.9121\n"
          ]
        }
      ],
      "source": [
        "early_stopping = tf.keras.callbacks.EarlyStopping(monitor='val_auc', patience=5, min_delta=1e-3, restore_best_weights=True)\n",
        "history = classifier_model.fit(x=train_ds,\n",
        "                               validation_data=val_ds,\n",
        "                               epochs=epochs,\n",
        "                               callbacks=[early_stopping])\n"
      ]
    },
    {
      "cell_type": "code",
      "execution_count": 18,
      "metadata": {
        "colab": {
          "base_uri": "https://localhost:8080/"
        },
        "id": "C5KN6V22NJKp",
        "outputId": "fca92f6f-0ff0-4905-be14-b846a7048604"
      },
      "outputs": [
        {
          "output_type": "stream",
          "name": "stdout",
          "text": [
            "112/112 [==============================] - 11s 92ms/step\n"
          ]
        }
      ],
      "source": [
        "predictions = classifier_model.predict(val_ds)"
      ]
    },
    {
      "cell_type": "code",
      "execution_count": 19,
      "metadata": {
        "id": "wl-9gApUFAsX"
      },
      "outputs": [],
      "source": [
        "import numpy as np\n",
        "pred_class=[0 if p<=0.5 else 1 for p in predictions]"
      ]
    },
    {
      "cell_type": "code",
      "execution_count": 20,
      "metadata": {
        "colab": {
          "base_uri": "https://localhost:8080/",
          "height": 279
        },
        "id": "KgPINGdSMXv0",
        "outputId": "6c18336e-b88f-47b8-c82e-31b2c81109f1"
      },
      "outputs": [
        {
          "output_type": "display_data",
          "data": {
            "text/plain": [
              "<Figure size 432x288 with 2 Axes>"
            ],
            "image/png": "[encoded data removed]"
          },
          "metadata": {
            "needs_background": "light"
          }
        }
      ],
      "source": [
        "import matplotlib.pyplot as plt\n",
        "from sklearn.datasets import make_classification\n",
        "from sklearn.metrics import confusion_matrix, ConfusionMatrixDisplay, classification_report\n",
        "\n",
        "cm = confusion_matrix(y_val, pred_class, labels=[0,1])\n",
        "disp = ConfusionMatrixDisplay(confusion_matrix=cm, display_labels=[\"Real\", \"Fraudulent\"])\n",
        "disp.plot()\n",
        "plt.show()"
      ]
    },
    {
      "cell_type": "code",
      "execution_count": 21,
      "metadata": {
        "colab": {
          "base_uri": "https://localhost:8080/"
        },
        "id": "SiSqLQ-brxiR",
        "outputId": "dce54441-eea1-48a8-9ada-67d3ef6ed093"
      },
      "outputs": [
        {
          "output_type": "stream",
          "name": "stdout",
          "text": [
            "              precision    recall  f1-score   support\n",
            "\n",
            "           0       0.98      0.99      0.98      3403\n",
            "           1       0.70      0.62      0.66       173\n",
            "\n",
            "    accuracy                           0.97      3576\n",
            "   macro avg       0.84      0.81      0.82      3576\n",
            "weighted avg       0.97      0.97      0.97      3576\n",
            "\n"
          ]
        }
      ],
      "source": [
        "print(classification_report(y_val, pred_class, zero_division=0))"
      ]
    },
    {
      "cell_type": "markdown",
      "metadata": {
        "id": "9oWvoiaatz50"
      },
      "source": [
        "# Undersampling the data"
      ]
    },
    {
      "cell_type": "code",
      "execution_count": 22,
      "metadata": {
        "id": "qDTTuqPot2rO"
      },
      "outputs": [],
      "source": [
        "X = pd.concat([x_train, y_train], axis=1)\n",
        "legit = X[X.fraudulent == 0] \n",
        "fraud = X[X.fraudulent == 1] \n",
        "\n",
        "\n",
        "\n"
      ]
    },
    {
      "cell_type": "code",
      "execution_count": 23,
      "metadata": {
        "id": "3J8AsELQE6U3"
      },
      "outputs": [],
      "source": [
        "from sklearn.utils import resample\n",
        "RANDOM_SEED = 23\n",
        "\n",
        "\n",
        "legit_downsampled = resample(legit,\n",
        "                                replace = False,\n",
        "                                n_samples = len(fraud),\n",
        "                                random_state = RANDOM_SEED)\n",
        "train_downsampled = pd.concat([legit_downsampled, fraud])\n",
        "train_downsampled = train_downsampled.sample(frac=1, random_state=RANDOM_SEED).reset_index() #shuffle the dataframe"
      ]
    },
    {
      "cell_type": "code",
      "execution_count": 24,
      "metadata": {
        "colab": {
          "base_uri": "https://localhost:8080/",
          "height": 295
        },
        "id": "-LPoxkp-qPVV",
        "outputId": "a1932bb4-1285-457b-96ce-be39ade55ceb"
      },
      "outputs": [
        {
          "output_type": "execute_result",
          "data": {
            "text/plain": [
              "<matplotlib.axes._subplots.AxesSubplot at 0x7f34cecbdbb0>"
            ]
          },
          "metadata": {},
          "execution_count": 24
        },
        {
          "output_type": "display_data",
          "data": {
            "text/plain": [
              "<Figure size 432x288 with 1 Axes>"
            ],
            "image/png": "[encoded data removed]"
          },
          "metadata": {
            "needs_background": "light"
          }
        }
      ],
      "source": [
        "train_downsampled['fraudulent'].value_counts().plot(kind=\"bar\", title=\"Legit vs Fraud\")"
      ]
    },
    {
      "cell_type": "code",
      "execution_count": 25,
      "metadata": {
        "id": "yhGqqhP0GHOb"
      },
      "outputs": [],
      "source": [
        "train_downsampled_ds = tf.data.Dataset.from_tensor_slices((train_downsampled['combined'], train_downsampled['fraudulent']))\n",
        "train_downsampled_ds = train_downsampled_ds.batch(32)"
      ]
    },
    {
      "cell_type": "code",
      "execution_count": 26,
      "metadata": {
        "id": "7d2V1dxZ4-vq"
      },
      "outputs": [],
      "source": [
        "ds_model = build_classifier_model()"
      ]
    },
    {
      "cell_type": "code",
      "execution_count": 27,
      "metadata": {
        "id": "0Y8Rs77v5Obv"
      },
      "outputs": [],
      "source": [
        "ds_model.compile(optimizer=optimizer,\n",
        "                         loss=loss,\n",
        "                         metrics=metrics)"
      ]
    },
    {
      "cell_type": "code",
      "execution_count": 28,
      "metadata": {
        "colab": {
          "base_uri": "https://localhost:8080/"
        },
        "id": "dTK2uBNcYDr_",
        "outputId": "b0258645-2486-4edf-d5f4-0e062d5ac873"
      },
      "outputs": [
        {
          "output_type": "stream",
          "name": "stdout",
          "text": [
            "Epoch 1/15\n",
            "33/33 [==============================] - 15s 295ms/step - loss: 0.6328 - auc: 0.9334 - val_loss: 0.5195 - val_auc: 0.8342\n",
            "Epoch 2/15\n",
            "33/33 [==============================] - 7s 223ms/step - loss: 0.5302 - auc: 0.8149 - val_loss: 0.4482 - val_auc: 0.8803\n",
            "Epoch 3/15\n",
            "33/33 [==============================] - 9s 269ms/step - loss: 0.4461 - auc: 0.8761 - val_loss: 0.3896 - val_auc: 0.9007\n",
            "Epoch 4/15\n",
            "33/33 [==============================] - 8s 259ms/step - loss: 0.3965 - auc: 0.9054 - val_loss: 0.3598 - val_auc: 0.9113\n",
            "Epoch 5/15\n",
            "33/33 [==============================] - 8s 262ms/step - loss: 0.3510 - auc: 0.9292 - val_loss: 0.3331 - val_auc: 0.9156\n",
            "Epoch 6/15\n",
            "33/33 [==============================] - 8s 256ms/step - loss: 0.3221 - auc: 0.9409 - val_loss: 0.3091 - val_auc: 0.9166\n",
            "Epoch 7/15\n",
            "33/33 [==============================] - 9s 278ms/step - loss: 0.2872 - auc: 0.9526 - val_loss: 0.3396 - val_auc: 0.9206\n",
            "Epoch 8/15\n",
            "33/33 [==============================] - 8s 242ms/step - loss: 0.2634 - auc: 0.9622 - val_loss: 0.3069 - val_auc: 0.9229\n",
            "Epoch 9/15\n",
            "33/33 [==============================] - 8s 259ms/step - loss: 0.2281 - auc: 0.9718 - val_loss: 0.2919 - val_auc: 0.9228\n",
            "Epoch 10/15\n",
            "33/33 [==============================] - 9s 283ms/step - loss: 0.2075 - auc: 0.9769 - val_loss: 0.3606 - val_auc: 0.9258\n",
            "Epoch 11/15\n",
            "33/33 [==============================] - 8s 255ms/step - loss: 0.2060 - auc: 0.9750 - val_loss: 0.3784 - val_auc: 0.9268\n",
            "Epoch 12/15\n",
            "33/33 [==============================] - 8s 241ms/step - loss: 0.1875 - auc: 0.9811 - val_loss: 0.3928 - val_auc: 0.9267\n",
            "Epoch 13/15\n",
            "33/33 [==============================] - 8s 256ms/step - loss: 0.1595 - auc: 0.9866 - val_loss: 0.3912 - val_auc: 0.9275\n",
            "Epoch 14/15\n",
            "33/33 [==============================] - 9s 288ms/step - loss: 0.1405 - auc: 0.9895 - val_loss: 0.3848 - val_auc: 0.9282\n",
            "Epoch 15/15\n",
            "33/33 [==============================] - 8s 245ms/step - loss: 0.1355 - auc: 0.9899 - val_loss: 0.3892 - val_auc: 0.9282\n"
          ]
        }
      ],
      "source": [
        "\n",
        "history_downsampled = ds_model.fit(x=train_downsampled_ds,\n",
        "                               validation_data=val_ds,\n",
        "                               epochs=epochs, \n",
        "                               callbacks=[early_stopping])"
      ]
    },
    {
      "cell_type": "code",
      "execution_count": 29,
      "metadata": {
        "colab": {
          "base_uri": "https://localhost:8080/"
        },
        "id": "_FXJ1HmmYuD0",
        "outputId": "55e11939-34ff-4bfe-96fb-2c863818ba3a"
      },
      "outputs": [
        {
          "output_type": "stream",
          "name": "stdout",
          "text": [
            "112/112 [==============================] - 10s 84ms/step\n"
          ]
        }
      ],
      "source": [
        "predictions_downsampled = ds_model.predict(val_ds)"
      ]
    },
    {
      "cell_type": "code",
      "execution_count": 30,
      "metadata": {
        "id": "yuQm6-qqYwmF"
      },
      "outputs": [],
      "source": [
        "pred_class_ds = [0 if p<=0.5 else 1 for p in predictions_downsampled]"
      ]
    },
    {
      "cell_type": "code",
      "execution_count": 31,
      "metadata": {
        "colab": {
          "base_uri": "https://localhost:8080/",
          "height": 279
        },
        "id": "TlGk5BYjY3Oj",
        "outputId": "be60c31c-0a10-409c-d289-4ea44da13cec"
      },
      "outputs": [
        {
          "output_type": "display_data",
          "data": {
            "text/plain": [
              "<Figure size 432x288 with 2 Axes>"
            ],
            "image/png": "[encoded data removed]"
          },
          "metadata": {
            "needs_background": "light"
          }
        }
      ],
      "source": [
        "cm_ds = confusion_matrix(y_val, pred_class_ds, labels=[0,1])\n",
        "disp = ConfusionMatrixDisplay(confusion_matrix=cm_ds, display_labels=[\"Real\", \"Fraudulent\"])\n",
        "disp.plot()\n",
        "plt.show()"
      ]
    },
    {
      "cell_type": "code",
      "execution_count": 32,
      "metadata": {
        "colab": {
          "base_uri": "https://localhost:8080/"
        },
        "id": "8xOTFNToZAFj",
        "outputId": "66d723ce-443a-4664-d651-24237d4892b1"
      },
      "outputs": [
        {
          "output_type": "stream",
          "name": "stdout",
          "text": [
            "              precision    recall  f1-score   support\n",
            "\n",
            "           0       0.99      0.85      0.92      3403\n",
            "           1       0.23      0.84      0.36       173\n",
            "\n",
            "    accuracy                           0.85      3576\n",
            "   macro avg       0.61      0.85      0.64      3576\n",
            "weighted avg       0.95      0.85      0.89      3576\n",
            "\n"
          ]
        }
      ],
      "source": [
        "print(classification_report(y_val, pred_class_ds, zero_division=0))"
      ]
    },
    {
      "cell_type": "markdown",
      "metadata": {
        "id": "SMDIGjNw1FFq"
      },
      "source": [
        "Undersampling in this case lowered the f1-score, but it predicted fewer fraudulent cases real. Depending on the ultimate goals this may be further tweaked to ensure no Fraudulent case is deemed real."
      ]
    },
    {
      "cell_type": "markdown",
      "source": [
        "## Evaluating Classifier model (non-undersampled) As it was the most accurate in testing."
      ],
      "metadata": {
        "id": "g2cbl_yBKD3w"
      }
    },
    {
      "cell_type": "code",
      "source": [
        "loss, auc = classifier_model.evaluate(test_ds)\n",
        "print(f'Loss: {loss}')\n",
        "print(f'AUC: {auc}')"
      ],
      "metadata": {
        "colab": {
          "base_uri": "https://localhost:8080/"
        },
        "id": "889O69RnKIfn",
        "outputId": "924807f0-dc39-4dcd-fa11-8fa0f5a08861"
      },
      "execution_count": 33,
      "outputs": [
        {
          "output_type": "stream",
          "name": "stdout",
          "text": [
            "112/112 [==============================] - 10s 92ms/step - loss: 0.0947 - auc: 0.9449\n",
            "Loss: 0.09471337497234344\n",
            "AUC: 0.9449456930160522\n"
          ]
        }
      ]
    },
    {
      "cell_type": "code",
      "source": [
        "test_preds = classifier_model.predict(test_ds)"
      ],
      "metadata": {
        "colab": {
          "base_uri": "https://localhost:8080/"
        },
        "id": "K9ymRU0xMPIn",
        "outputId": "c27b3126-6c99-4b6d-c171-c7c156b2290c"
      },
      "execution_count": 34,
      "outputs": [
        {
          "output_type": "stream",
          "name": "stdout",
          "text": [
            "112/112 [==============================] - 12s 105ms/step\n"
          ]
        }
      ]
    },
    {
      "cell_type": "code",
      "source": [
        "pred_class_test =[0 if p<=0.5 else 1 for p in test_preds]"
      ],
      "metadata": {
        "id": "OJTovqCgNYJp"
      },
      "execution_count": 35,
      "outputs": []
    },
    {
      "cell_type": "code",
      "source": [
        "cm_test = confusion_matrix(y_test, pred_class_test, labels=[0,1])\n",
        "disp = ConfusionMatrixDisplay(confusion_matrix=cm_test, display_labels=[\"Real\", \"Fraudulent\"])\n",
        "disp.plot()\n",
        "plt.show()"
      ],
      "metadata": {
        "colab": {
          "base_uri": "https://localhost:8080/",
          "height": 279
        },
        "id": "3FyMc8TbNhxr",
        "outputId": "8ede0e5f-5994-4ebd-ff2a-72d663e3129b"
      },
      "execution_count": 36,
      "outputs": [
        {
          "output_type": "display_data",
          "data": {
            "text/plain": [
              "<Figure size 432x288 with 2 Axes>"
            ],
            "image/png": "[encoded data removed]"
          },
          "metadata": {
            "needs_background": "light"
          }
        }
      ]
    },
    {
      "cell_type": "code",
      "source": [
        "print(classification_report(y_test, pred_class_test, zero_division=0))"
      ],
      "metadata": {
        "colab": {
          "base_uri": "https://localhost:8080/"
        },
        "id": "pw4YLrx3NqnP",
        "outputId": "f3a64473-3b16-4ef8-ed00-8424552e7f0e"
      },
      "execution_count": 37,
      "outputs": [
        {
          "output_type": "stream",
          "name": "stdout",
          "text": [
            "              precision    recall  f1-score   support\n",
            "\n",
            "           0       0.98      0.99      0.98      3403\n",
            "           1       0.70      0.58      0.64       173\n",
            "\n",
            "    accuracy                           0.97      3576\n",
            "   macro avg       0.84      0.79      0.81      3576\n",
            "weighted avg       0.97      0.97      0.97      3576\n",
            "\n"
          ]
        }
      ]
    },
    {
      "cell_type": "markdown",
      "source": [
        "f1 scores of .98 on test data with a near 97% successful prediction rate."
      ],
      "metadata": {
        "id": "ITYUTOoNN7qY"
      }
    }
  ],
  "metadata": {
    "accelerator": "GPU",
    "colab": {
      "provenance": []
    },
    "gpuClass": "premium",
    "kernelspec": {
      "display_name": "Python 3",
      "name": "python3"
    },
    "language_info": {
      "name": "python"
    }
  },
  "nbformat": 4,
  "nbformat_minor": 0
}